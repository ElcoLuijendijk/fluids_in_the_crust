{
 "cells": [
  {
   "cell_type": "markdown",
   "metadata": {},
   "source": [
    "# Exercise 2a: Modelling steady-state groundwater flow with python\n",
    "\n",
    "Elco Luijendijk\n",
    "\n",
    "November 2019\n",
    "\n",
    "<elco.luijendijk@geo.uni-goettingen.de>\n",
    "\n",
    "## Objectives\n",
    "\n",
    "* Get familiar with the widely used scripting language Python\n",
    "* Learn how to solve simple 1D steady-state groundwater flow in python\n",
    "\n",
    "\n",
    "**Deadline**: **20 Dec 2019**. Hand in a version of your jupyter notebook and a short word document with answers to the assignments and the result figures of your numerical model. \n",
    "\n",
    "**Grading**: Each assignment is 1 point, for a total of 4 points.\n",
    "\n",
    "Do not hesitate to ask questions if you get stuck anywhere. You can reach me by email <eluijen@gwdg.de> or pass by at my office, room 122 in the Structural Geology dept.\n",
    "\n",
    "*Good luck !*"
   ]
  },
  {
   "cell_type": "markdown",
   "metadata": {},
   "source": [
    "## Introduction\n",
    "In this exercise we will use a widely used and relatively simple programming or scripting language Python to solve the groundwater and heat flow equations in 1D. We will start with a tutorial of how to set up and run Python. Then we will use Python to solve the same groundwater flow equation as in exercise 1, make some figures of the model output and finally use automated calibration to explore the effect of measurement errors of hydraulic head on calibrated values of hydraulic conductivity."
   ]
  },
  {
   "cell_type": "markdown",
   "metadata": {},
   "source": [
    "## Starting python\n",
    "\n",
    "We will use a Python distribution called Enthought Canopy. This is a software bundle that contains Python itself, a large numbers of additional modules and an editor. Canopy is free for academic use and is already installed on the computers in room MN13. If you want to install Canopy at home or on your laptop go to: <https://store.enthought.com/#canopy-academic> for the free academic version of Canopy or to: <https://store.enthought.com/downloads/#default> for Canopy express, a version that only contains the most essential modules.\n",
    "\n",
    "You can find Canopy in Window's start menu on your computer. After you start Canopy you should get a window that looks like this:\n",
    "\n",
    " ![Canopy welcome screen](fig/canopy_first_screen.png)\n",
    "\n",
    "Now start the editor. It should look something like this:\n",
    "\n",
    " ![Canopy editor](fig/canopy_editor.png)\n",
    "\n",
    "The editor contains three windows. On the bottom right there is the interpreter. Here you can directly type and execute python commands. For instance try typing: \n",
    "\n",
    " ![Using python](fig/python_interpreter.png)\n",
    "\n",
    "After pressing enter you will see the computer trying to communicate with you.\n",
    "\n",
    "On the upper right part of the window there is an editor. Here you can type a list of commands which can then be executed one by one. You can also load and save these lists of commands, which from now on we will call python scripts. It is custom to name python files with the extension .py like this: ``your_python_script.py``. \n",
    "\n",
    " ![A python script](fig/python_script.png)"
   ]
  },
  {
   "cell_type": "markdown",
   "metadata": {},
   "source": [
    "## Jupyter notebooks\n",
    "\n",
    "There is however a much nicer way to work with Python and that is by working with Jupyter Notebooks. The document you are reading at the moment is a Jupyter notebooks. Notebooks contain a mix of text, Python or other code (R, Julia) and figures. The nice thing is that these notebooks are interactive: you can run the code in these notebooks and reproduce the figures in these notebooks. This makes for a nice and interactive way to analyze data or make simple numerical models as in this course.\n",
    "\n",
    "For more information on Jupyter notebooks see here:\n",
    "https://jupyter.org/\n",
    "\n",
    "There are many examples of jupyter notebooks in the geosciences. A nice resource is this webpage that list several example notebooks:\n",
    "http://geologyandpython.com/\n"
   ]
  },
  {
   "cell_type": "markdown",
   "metadata": {},
   "source": [
    "## Python tutorial\n",
    "\n",
    "To get a bit more familiar with Python we will work through part of an excellent online Python tutorial for scientists that you can find here: <http://nbviewer.ipython.org/gist/rpmuller/5920182>. We will restrict ourselves to part I and part II, up to the part on \"One-Dimensional Harmonic Oscillator using Finite Difference\". You can also skip the parts on tuples and dictionaries, since we will not use these. Take your time to go through this tutorial. Make sure you type all the commands correctly. While Python is probably the easiest programming language around, it is still very sensitive to typos. Programming languages and computers in general do exactly as they are told, but only exactly that."
   ]
  },
  {
   "cell_type": "markdown",
   "metadata": {},
   "source": [
    "## Set up a numerical model in Python\n",
    "\n",
    "## Set up a numerical model in Python\n",
    "\n",
    "As in exercise 1, we will again set up a numerical model that represents a simplified version of the typical global average watershed, using the simple conceptual model shown in the figure below. We will first solve the 1-dimensional form of the groundwater flow equation (see also your handout for exercise 1):\n",
    "\n",
    "\\begin{equation}\n",
    "    \\label{eq:explicit_steady_gwflow}\n",
    "     h(x) = \\frac{1}{2} \\left( \\frac{Wb \\Delta x^2}{K b} + h(x+\\Delta x) + h(x - \\Delta x) \\right)\n",
    "\\end{equation}\n",
    "\n",
    "The parameters are given in the following table:\n",
    "\n",
    "| L (m) |  b (m) |  h0 (m) |  R (m/yr) |  K (m/s)  | $\\Delta x$ (m) |\n",
    "| ----- | ------ | ------- | --------- | --------- | -------------- |  \n",
    "| 5000  |  250   |   250   | 0.25      | $10^{-5}$ | 100            | \n",
    "\n",
    "\n",
    "And here is a figure of the simple groundwater flow system that we are trying to simulate:\n",
    "\n",
    "![Groundwater flow to a stream with uniform recharge](fig/1dim_flow_with_recharge_small.png)\n"
   ]
  },
  {
   "cell_type": "markdown",
   "metadata": {},
   "source": [
    "## Setting up your model code\n"
   ]
  },
  {
   "cell_type": "markdown",
   "metadata": {},
   "source": [
    "First the notebook contains some lines to import all the external modules that we need for this exercise. For this exercise we need numpy, for working with arrays, and matplotlib, to make some nice looking figures. FOr a nice overview of all the different graphics you cna make with python head over to the matplotlib website: https://matplotlib.org/\n",
    "\n",
    "Note that any line starting with # is a comment and is ignored by Python. Try adding comments in your code to make reading the code and figuring out what it does easier later on. In the next lines we import the modules numpy and pyplot, which is part of matplotlib. We also specified ``as np``, which means that any numpy command we use must start with ``np.``, for example to take the square root of a number using numpy we should type ``np.sqrt(9)``. For pyplot we have to use the prefix ``pl.``. For example the following command: ``pl.plot([0, 2], [0, 2])`` will plot a straight line from (0, 0) to (2, 2).\n"
   ]
  },
  {
   "cell_type": "code",
   "execution_count": 2,
   "metadata": {},
   "outputs": [],
   "source": [
    "# importing external python modules\n",
    "# numpy for working with arrays:\n",
    "import numpy as np\n",
    "# and matplotlib to make nice looking figures\n",
    "import matplotlib.pyplot as pl"
   ]
  },
  {
   "cell_type": "markdown",
   "metadata": {},
   "source": [
    "## Python functions\n",
    "\n",
    "Next up there is a section that starts with ``def solve_steady_state_diffusion(...)``. This is a function. A function is an isolated part of the script that uses a set of input variables, does some operations with these variables (like solving the groundwater flow eq.) and returns one or more variables to the main script. You will need to adjust the function below later. For now lets skip the function and scroll down to the main part of the code.\n",
    "\n",
    "Note that Python uses indents (empty spaces) to determine which part of the code belongs to which function or loop. This means that all indented code below the start of the function belongs to the function. You can add indents using the tab key.\n",
    "\n",
    "~~~python\n",
    "# an example of indentation:\n",
    "\n",
    "# this line is not indented\n",
    "    # this line is indented\n",
    "~~~\n"
   ]
  },
  {
   "cell_type": "code",
   "execution_count": 3,
   "metadata": {},
   "outputs": [
    {
     "ename": "IndentationError",
     "evalue": "expected an indented block (<ipython-input-3-7e556f837c01>, line 38)",
     "output_type": "error",
     "traceback": [
      "\u001b[0;36m  File \u001b[0;32m\"<ipython-input-3-7e556f837c01>\"\u001b[0;36m, line \u001b[0;32m38\u001b[0m\n\u001b[0;31m    elif i == n_nodes - 1:\u001b[0m\n\u001b[0m       ^\u001b[0m\n\u001b[0;31mIndentationError\u001b[0m\u001b[0;31m:\u001b[0m expected an indented block\n"
     ]
    }
   ],
   "source": [
    "def solve_steady_state_diffusion_eq(dx, K, W, h0, n_iterations=1000):\n",
    "    \n",
    "    \"\"\"\n",
    "    this is a function where we will solve the steady-state diffusion equation\n",
    "    for groundwater or heat flow\n",
    "\n",
    "    this function receives 4 variables from the main code: dx, K, W, u0\n",
    "    plus an optional variable n_iterations. The default value for this\n",
    "    variable if not specified otherwise is 1000\n",
    "\n",
    "    \"\"\"\n",
    "    \n",
    "    # check the number of nodes in our numerical model:\n",
    "    n_nodes = len(W)\n",
    "    \n",
    "    # set u an array to store the variable (ie, hydraulic head or temperature)\n",
    "    h_new = np.zeros(n_nodes)\n",
    "\n",
    "    # and set up a similar array to store the variable value of the previous \n",
    "    # iteration step\n",
    "    h_old = h_new.copy()\n",
    "\n",
    "    # calculate the right hand term of the finite difference equation:\n",
    "    C = W * dx**2 / K\n",
    "    \n",
    "    # set up a for loop to repeat the calculation n_iterations times\n",
    "    for n_iter in range(n_iterations):\n",
    "        \n",
    "        # set up a new for loop to go through all the grid cells:\n",
    "        for i in range(n_nodes):\n",
    "            \n",
    "            # check if we are at the left-hand boundary of the model domain\n",
    "            if i == 0:\n",
    "                # complete the next line and remove the comment sign (#)\n",
    "                #h_new[0] = ....\n",
    "\n",
    "            # check if we are at the right hand boundary instead\n",
    "            elif i == n_nodes - 1:\n",
    "                # complete the next line and remove the comment sign (#)\n",
    "                #h_new[-1] = .... a function of h_old[-2]\n",
    "\n",
    "            else:\n",
    "                # add the equation for the middle nodes here:\n",
    "                #h_new[i] = ..... a function of C[i], h_old[i-1] and h_old[i+1]\n",
    "\n",
    "        # copy the new u into the u array for the previous timestep:\n",
    "        h_old = h_new.copy()\n",
    "    \n",
    "    # done, you can now pass on the calculated value of u back to the main\n",
    "    # part of the code:\n",
    "    return h_new"
   ]
  },
  {
   "cell_type": "markdown",
   "metadata": {},
   "source": [
    "Here is another function that does the same thing but faster. You will need to complete this function and run it later on in this exercise:"
   ]
  },
  {
   "cell_type": "code",
   "execution_count": 4,
   "metadata": {},
   "outputs": [],
   "source": [
    "def solve_steady_state_diffusion_eq_faster(dx, K, W, h0, n_iterations=1000):\n",
    "    \n",
    "    \"\"\"\n",
    "    this is a function where we will solve the steady-state diffusion equation\n",
    "    for groundwater or heat flow\n",
    "\n",
    "    this function receives 4 variables from the main code: dx, K, W, u0\n",
    "    plus an optional variable n_iterations. The default value for this\n",
    "    variable if not specified otherwise is 1000\n",
    "\n",
    "    \"\"\"\n",
    "    \n",
    "    # check the number of nodes in our numerical model:\n",
    "    n_nodes = len(W)\n",
    "    \n",
    "    # set u an array to store the variable (ie, hydraulic head or temperature)\n",
    "    h_new = np.zeros(n_nodes)\n",
    "\n",
    "    # and set up a similar array to store the variable value of the previous \n",
    "    # iteration step\n",
    "    h_old = h_new.copy()\n",
    "\n",
    "    # calculate the right hand term of the finite difference equation:\n",
    "    C = W * dx**2 / K\n",
    "    \n",
    "    # set up a for loop to repeat the calculation n_iterations times\n",
    "    for n_iter in range(n_iterations):\n",
    "        \n",
    "        # complete the next line and remove the comment sign (#)\n",
    "        #h_new[0] = ....\n",
    "\n",
    "        # complete the next line and remove the comment sign (#)\n",
    "        #h_new[-1] = .... a function of h_old[-2]\n",
    "\n",
    "        # add the equation for the middle nodes here:\n",
    "        #h_new[1:-1] = ..... a function of C[1:-1], h_old[2:], h_old[:-2]\n",
    "\n",
    "        # copy the new u into the u array for the previous timestep:\n",
    "        h_old = h_new.copy()\n",
    "    \n",
    "    # done, you can now pass on the calculated value of u back to the main\n",
    "    # part of the code:\n",
    "    return h_new"
   ]
  },
  {
   "cell_type": "markdown",
   "metadata": {},
   "source": [
    "## Add variables\n",
    "\n",
    "The first thing to do is to define all parameters that we need. You can find the parameter values in table 1. Start adding all parameters that you need for the model in the cell below.\n",
    "\n",
    "Note that it is a good habit to use decimal points to distinguish floating point numbers from integers, so ``L=5000.0`` instead of ``L=5000``. In the last case Python will assume L is an integer (ie, a whole number), which may result in counter-intuitive behaviour when using L in calculations later on.\n",
    "\n",
    "Also note that all parameters should be given in SI units. To convert recharge from m/yr to m/s add something like this:\n",
    "\n",
    "~~~~python\n",
    "R = 0.25 / (365.25 * 24 * 60 * 60) \n",
    "~~~~\n",
    "\n",
    "go ahead and add all parameters that we need in the cell below\n"
   ]
  },
  {
   "cell_type": "code",
   "execution_count": 5,
   "metadata": {},
   "outputs": [],
   "source": [
    "# \n",
    "year = 365.25 * 24 * 60 * 60.0\n",
    "\n",
    "# uncomment (remove #) the following lines and add all the model parameters that you need:\n",
    "#L = ...\n",
    "#dx = ..\n",
    "# add all other parameters in the following lines....\n"
   ]
  },
  {
   "cell_type": "markdown",
   "metadata": {},
   "source": [
    "## Calculating the source term\n",
    "\n",
    "After specifying all input parameters we need to calculate the fluid source term (*W*) using the equation given in exercise 1: $W = (R * \\Delta x / (\\Delta x * b))$:\n"
   ]
  },
  {
   "cell_type": "code",
   "execution_count": 6,
   "metadata": {},
   "outputs": [
    {
     "ename": "NameError",
     "evalue": "name 'R' is not defined",
     "output_type": "error",
     "traceback": [
      "\u001b[0;31m---------------------------------------------------------------------------\u001b[0m",
      "\u001b[0;31mNameError\u001b[0m                                 Traceback (most recent call last)",
      "\u001b[0;32m<ipython-input-6-c6359da29149>\u001b[0m in \u001b[0;36m<module>\u001b[0;34m()\u001b[0m\n\u001b[0;32m----> 1\u001b[0;31m \u001b[0mW\u001b[0m \u001b[0;34m=\u001b[0m \u001b[0mR\u001b[0m \u001b[0;31m# .... complete this equation ....\u001b[0m\u001b[0;34m\u001b[0m\u001b[0m\n\u001b[0m",
      "\u001b[0;31mNameError\u001b[0m: name 'R' is not defined"
     ]
    }
   ],
   "source": [
    "W = R # .... complete this equation .... "
   ]
  },
  {
   "cell_type": "markdown",
   "metadata": {},
   "source": [
    "## Setting up arrays\n",
    "\n",
    "For a number of variables like distance (x) and the source term (W) we need to set up arrays, ie. rows of numbers. This is similar to the columns of numbers that you used in your numerical model in excel. The following line will set up an array that represents distance (x):\n",
    "\n",
    "~~~~python\n",
    "x = np.arange(0, L + dx, dx)\n",
    "~~~~\n",
    "\n",
    "This generates an array that starts with 0, ends with the value ``L`` and has ``(L/dx + 1)`` nodes. For the source term W we can set up an array with the same length as array ``x`` in this way:\n",
    "\n",
    "~~~~python\n",
    "W_array = np.ones_like(x) * W\n",
    "~~~~\n",
    "\n",
    "This creates a new array with the same length as x. This new array is filled with the number one and then multiplied by the value of the source term (*W*) that we just calculated before.\n",
    "\n",
    "Now go ahead and run the code below to set up the arrays that we need:\n"
   ]
  },
  {
   "cell_type": "code",
   "execution_count": 1,
   "metadata": {},
   "outputs": [
    {
     "ename": "NameError",
     "evalue": "name 'np' is not defined",
     "output_type": "error",
     "traceback": [
      "\u001b[0;31m---------------------------------------------------------------------------\u001b[0m",
      "\u001b[0;31mNameError\u001b[0m                                 Traceback (most recent call last)",
      "\u001b[0;32m<ipython-input-1-92194622c627>\u001b[0m in \u001b[0;36m<module>\u001b[0;34m()\u001b[0m\n\u001b[1;32m      1\u001b[0m \u001b[0;31m# calculate the position of each node:\u001b[0m\u001b[0;34m\u001b[0m\u001b[0;34m\u001b[0m\u001b[0m\n\u001b[0;32m----> 2\u001b[0;31m \u001b[0mx\u001b[0m \u001b[0;34m=\u001b[0m \u001b[0mnp\u001b[0m\u001b[0;34m.\u001b[0m\u001b[0marange\u001b[0m\u001b[0;34m(\u001b[0m\u001b[0;36m0\u001b[0m\u001b[0;34m,\u001b[0m \u001b[0mL\u001b[0m \u001b[0;34m+\u001b[0m \u001b[0mdx\u001b[0m\u001b[0;34m,\u001b[0m \u001b[0mdx\u001b[0m\u001b[0;34m)\u001b[0m\u001b[0;34m\u001b[0m\u001b[0m\n\u001b[0m\u001b[1;32m      3\u001b[0m \u001b[0;34m\u001b[0m\u001b[0m\n\u001b[1;32m      4\u001b[0m \u001b[0;31m# set up an array with a source term for each node\u001b[0m\u001b[0;34m\u001b[0m\u001b[0;34m\u001b[0m\u001b[0m\n\u001b[1;32m      5\u001b[0m \u001b[0mW_array\u001b[0m \u001b[0;34m=\u001b[0m \u001b[0mnp\u001b[0m\u001b[0;34m.\u001b[0m\u001b[0mones_like\u001b[0m\u001b[0;34m(\u001b[0m\u001b[0mx\u001b[0m\u001b[0;34m)\u001b[0m \u001b[0;34m*\u001b[0m \u001b[0mW\u001b[0m\u001b[0;34m\u001b[0m\u001b[0m\n",
      "\u001b[0;31mNameError\u001b[0m: name 'np' is not defined"
     ]
    }
   ],
   "source": [
    "# calculate the position of each node:\n",
    "x = np.arange(0, L + dx, dx)\n",
    "\n",
    "# set up an array with a source term for each node\n",
    "W_array = np.ones_like(x) * W"
   ]
  },
  {
   "cell_type": "markdown",
   "metadata": {},
   "source": [
    "Next we will check the content of the arrays that we have just set up:"
   ]
  },
  {
   "cell_type": "code",
   "execution_count": null,
   "metadata": {},
   "outputs": [],
   "source": [
    "print('the array x contains the following numbers: ', x)\n",
    "print('an W_array contains:', W_array)"
   ]
  },
  {
   "cell_type": "markdown",
   "metadata": {},
   "source": [
    "Note that you can also select parts of arrays, as shown in the Python tutorial.\n",
    "For instance to find the first value of x we can type the following:"
   ]
  },
  {
   "cell_type": "code",
   "execution_count": null,
   "metadata": {},
   "outputs": [],
   "source": [
    "x[0]"
   ]
  },
  {
   "cell_type": "markdown",
   "metadata": {},
   "source": [
    "Note that Python always starts counting at 0.\n",
    "You can also start counting at the end by using negative numbers.\n",
    "The last value of x can be found using:"
   ]
  },
  {
   "cell_type": "code",
   "execution_count": null,
   "metadata": {},
   "outputs": [],
   "source": [
    "x[-1]"
   ]
  },
  {
   "cell_type": "markdown",
   "metadata": {},
   "source": [
    "and finally you can alos select ranges of numbers. TO select all values of x except the first and the last you can type:"
   ]
  },
  {
   "cell_type": "code",
   "execution_count": null,
   "metadata": {},
   "outputs": [],
   "source": [
    "x[1:-1]"
   ]
  },
  {
   "cell_type": "markdown",
   "metadata": {},
   "source": [
    "## Using the steady-state diffusion eq. function:\n",
    "\n",
    "Next we can already call our function (solve_steady_state_diffusion_eq) that solves the steady-state groundwater equation. \n",
    "\n",
    "However, the function is not complete yet. If you go through the function you will notice a few lines that still have to be completed. The function starts with creating two new arrays, ``h_new`` and ``h_old``. These store the value of the variable you are trying to solve, which in this case is hydraulic head. The function solves the equation iteratively. After each iteration time step the newly calculated value ``h_new`` is copied to ``h_old`` and the iteration is repeated. \n",
    "\n",
    "The iterations are executed using a so called for loop. The following line:\n",
    "\n",
    "~~~~python\n",
    "for n_iter in range(n_iterations):\n",
    "~~~~\n",
    "\n",
    "means that any code that is below this line and that is indented is repeated ``n_iterations`` times.\n",
    "\n",
    "There is a second for loop that is inside the first for loop, which makes sure we go over each node in our model: \n",
    "\n",
    "~~~~python\n",
    "    # set up a for loop to repeat the calculation n_iterations times\n",
    "    for n_iter in range(n_iterations):\n",
    "        \n",
    "        # set up a new for loop to go through all the grid cells:\n",
    "        for i in range(n_nodes):\n",
    "~~~~\n",
    "\n",
    "The code in this second for loop does the actual calculation of the hydraulic head for each node and each iteration.\n",
    "\n",
    "\n",
    "## Complete the equations\n",
    "\n",
    "Next we have to make sure that the groundwater flow equation is solved correctly. There are three lines to complete in the function, one where the hydraulic head at the left hand side of the model domain is calculated, one that calculates value on the right hand side of the model domain, and one where you calculate hydraulic head in the remaining nodes in the middle. \n",
    "\n",
    "Now go ahead and try to complete the line starting with ``#u_new[0] = ``:\n",
    "\n",
    "~~~~python\n",
    "# check if we are at the left-hand boundary of the model domain\n",
    "if i == 0:\n",
    "    # complete the next line and remove the comment sign (#)\n",
    "    #h_new[0] = ....\n",
    "~~~~\n",
    "\n",
    "the variable ``h_new[0]`` means the value of ``h_new`` at the first node, which has node number 0. Note that python always starts to count at 0, and not 1 like for instance in Matlab. In exercise 1 we assigned a specified hydraulic head to the first node. The specified head is passed to the function as the variable ``h0``.\n",
    "\n",
    "Next we can try to complete the line for the nodes in the middle:\n",
    "\n",
    "~~~~python\n",
    "else:\n",
    "    # add the equation for the middle nodes here:\n",
    "    #h_new[i] = ..... a function of C[i], h_old[i-1] and h_old[i+1]\n",
    "~~~~\n",
    "\n",
    "Look up the correct equation in your handout, modify the line and remove the # sign before the line to make it active. h_new[i] means the value of h_new at node number i. Note that i is part of the for loop: ``for i in range(n_nodes):``. THis means that everything below this loop is repeated and i is increased with one after completing each loop. ``h_old[i-1]`` means the value of h_old at node number i-1, which is the node before node i. And similarly ``h_old[i+1]`` means the value of h_old at node i+1, the next node.\n",
    "\n",
    "Next we have to make sure that the right hand boundary acts as a no flow boundary. In excel we did this by making sure that the hydraulic head at a grid cell one row below the last grid cell always had the same value as the last grid cell. In python we can do the same by making sure that the value in the last node (``h_new[-1]``) is always the same as the second last node (``h_new[-2]``):\n",
    "\n",
    "~~~~python\n",
    "    # check if we are at the right hand boundary instead\n",
    "    elif i == n_nodes - 1:\n",
    "        # complete the next line and remove the comment sign (#)\n",
    "        #h_new[-1] = .... a function of h_old[-2]\n",
    "~~~~\n",
    "\n",
    "The index ``[-1]`` is shorthand for the last item in an array. So ``h_new[-1]`` is the value of hydraulic head for the right most grid cell, and ``h_new[-2]`` is the second last node, etc...\n"
   ]
  },
  {
   "cell_type": "markdown",
   "metadata": {},
   "source": [
    "Note that the term $\\dfrac{Wb \\Delta x^2}{K b}$ of the groundwater flow equation only needs to be calculated once and therefore can be kept outside the iteration loop. The term $\\frac{Wb \\Delta x^2}{K b}$ is stored in a new variable called ``C``."
   ]
  },
  {
   "cell_type": "markdown",
   "metadata": {},
   "source": [
    "## Running the model\n",
    "\n",
    "Make sure you complete and run the diffusion function above and that the jupyter notebook does not generate an error if you do so. The reason is usually a typo or a wrong indentation. Try to fix this or call for help from your instructor if you cannot figure out the error.\n",
    "\n",
    "Now try to run the model code by running the cell below. Watch the values of h increase towards a steady-state value (hopefully). Increase the number of iterations in the function if you need more steps to reach steady-state."
   ]
  },
  {
   "cell_type": "code",
   "execution_count": null,
   "metadata": {},
   "outputs": [],
   "source": [
    "# call the steady-state diffusion function to calculate h\n",
    "h = solve_steady_state_diffusion_eq(dx, K, W_array, h0)"
   ]
  },
  {
   "cell_type": "markdown",
   "metadata": {},
   "source": [
    "If everything works ok: congrats! You just wrote your very first numerical model code. You can inspect the modelled values of hydraulic head by making a new code cell by slecting the plus button above, and typing ``print(h)`` in this cell. If you want to only see part of the h array (which contains the modeled hydraulic head), you can for instance type ``print(h[10:20])`` to see the values of h for node 10 to 20.\n",
    "\n",
    "If the code does not work: Do not panic. Go over your code to make sure there are no typos etc, you did not forget to define any variables, indentations are ok, etc... If the code is still not behaving: try to get the attention of your instructor or shout help."
   ]
  },
  {
   "cell_type": "markdown",
   "metadata": {},
   "source": [
    "## Adding the analytical solution\n",
    "\n",
    "One good habit when running numerical models is to try and always find an analytical solution to test whether your numerical model is behaving well. Try to implement the analytical solution for the groundwater table that was shown in exercise 1. Complete the line that starts with ``#h_an = `` to calculate the analytical solution."
   ]
  },
  {
   "cell_type": "code",
   "execution_count": 7,
   "metadata": {},
   "outputs": [],
   "source": [
    "# analytical solution for steady-state groundwater flow\n",
    "# complete the line below:\n",
    "#h_an = ....."
   ]
  },
  {
   "cell_type": "markdown",
   "metadata": {},
   "source": [
    "## Graphical output\n",
    "\n",
    "A computer model is really not complete without colourful pictures of the model result. Making nice-looking figures with Python is very easy thanks to the matplotlib module that we have imported already. For an overview of what you can do with matplotlib surf to the website and look at the gallery: <http://matplotlib.org/gallery.html>.\n",
    "\n",
    "There are already a number of lines of code at the bottom of the script that will generate a figure of the model results. \n",
    "\n",
    "The following line creates a new figure with one panel:\n"
   ]
  },
  {
   "cell_type": "code",
   "execution_count": null,
   "metadata": {},
   "outputs": [],
   "source": [
    "# set up a figure with one panel\n",
    "fig, panel = pl.subplots(1, 1)\n",
    "\n",
    "# plot the analytical solution\n",
    "panel.plot(x, h_an, color='green', label='h, analytical')\n",
    "\n",
    "# and the numerical solution, add the right variables and uncomment (remove #) the next line:\n",
    "#panel.plot(....)\n",
    "\n",
    "# make the figure nicer:\n",
    "panel.set_xlabel('Distance (m)')\n",
    "panel.set_ylabel('Elevation (m)')\n",
    "panel.legend(loc='upper left', fontsize='medium', frameon=False)\n",
    "\n",
    "# save the figure:\n",
    "fig.savefig('simulated_h.png')"
   ]
  },
  {
   "cell_type": "markdown",
   "metadata": {},
   "source": [
    "note that you can rerun this block of code each time you change the numerical model to generate a new figure. Or you can copy paste the entire block and repeat it somewhere else as well."
   ]
  },
  {
   "cell_type": "markdown",
   "metadata": {},
   "source": [
    "# Assignments\n",
    "\n",
    "be sure to answer assignments below marked in **bold**"
   ]
  },
  {
   "cell_type": "markdown",
   "metadata": {},
   "source": [
    "**Assignment 1** Make a figure that contains the analytical and numerical values of h."
   ]
  },
  {
   "cell_type": "markdown",
   "metadata": {},
   "source": [
    "## Making the code faster\n",
    "For loops in general make your code relatively slow. We can use numpy's functionality to avoid the inner for loop that cycles over the grid cells and try to calculate the new value of *h* for all nodes in one go at each timestep. We will implement the faster code in a new function called ``solve_steady_state_diffusion_eq_faster`` which you can find at the start of the notebook.\n",
    "\n",
    "For this we need to remove the inner for loop (remove the line ``for i in range(n_nodes):``, and unindent the lines in this for loop) and replace the equations for *h*. The two lines for the boundary conditions can remain the same, since they do not depend on the value of ``i``, which tracks the node number. For all the nodes in between the boundary conditions, we can calculate *h* like this:\n",
    "\n",
    "~~~~python\n",
    "h_new[1:-1] = ... a function of C[1:-1], h_old[2:] and h_old[:-2]\n",
    "~~~~\n",
    "\n",
    "In this piece of code ``h_new[1:-1]`` means all grid cells except the first and last ones. ``h_old[2:]`` means all grid cells, except the first two, and ``h_old[:-2]`` means all grid cells except the last two. This statement does exactly the same as our for loop earlier, but many times faster.\n",
    "\n",
    "After you are done with changing the code try to run the new faster model using the code below:"
   ]
  },
  {
   "cell_type": "code",
   "execution_count": 2,
   "metadata": {},
   "outputs": [
    {
     "ename": "NameError",
     "evalue": "name 'solve_steady_state_diffusion_eq_faster' is not defined",
     "output_type": "error",
     "traceback": [
      "\u001b[0;31m---------------------------------------------------------------------------\u001b[0m",
      "\u001b[0;31mNameError\u001b[0m                                 Traceback (most recent call last)",
      "\u001b[0;32m<ipython-input-2-d7bafcbf924a>\u001b[0m in \u001b[0;36m<module>\u001b[0;34m()\u001b[0m\n\u001b[0;32m----> 1\u001b[0;31m \u001b[0mh\u001b[0m \u001b[0;34m=\u001b[0m \u001b[0msolve_steady_state_diffusion_eq_faster\u001b[0m\u001b[0;34m(\u001b[0m\u001b[0mdx\u001b[0m\u001b[0;34m,\u001b[0m \u001b[0mK\u001b[0m\u001b[0;34m,\u001b[0m \u001b[0mW_array\u001b[0m\u001b[0;34m,\u001b[0m \u001b[0mh0\u001b[0m\u001b[0;34m)\u001b[0m\u001b[0;34m\u001b[0m\u001b[0m\n\u001b[0m",
      "\u001b[0;31mNameError\u001b[0m: name 'solve_steady_state_diffusion_eq_faster' is not defined"
     ]
    }
   ],
   "source": [
    "h = solve_steady_state_diffusion_eq_faster(dx, K, W_array, h0)"
   ]
  },
  {
   "cell_type": "markdown",
   "metadata": {},
   "source": [
    "**Assignment 2** Implement the new faster code below and run the numerical model again. Increase the amount of iterations (change the number in the first for loop) until the final solution does not change. How many timesteps do you need to have an error of *h* that is less than 1 cm? "
   ]
  },
  {
   "cell_type": "markdown",
   "metadata": {},
   "source": [
    "## Automated model calibration\n",
    "\n",
    "One of the advantages of Python is that over the last decade or so a lot of people have written a huge variety of Python modules that add all kinds of different useful functionality. One such module is called Scipy, <http://www.scipy.org>. This is a large collection of mathematical and scientific functions. Scipy contains a set of functions that deal with model calibration. We will use this to calibrate hydraulic conductivity in our numerical model. This is of course much faster and convenient than adjusting the values by hand as you've done in exercise 1.\n",
    "\n",
    "The automated calibration module needs a second function that compares the modelled value of ``h`` to an observed value and then returns the model error. This function looks like this:"
   ]
  },
  {
   "cell_type": "code",
   "execution_count": 17,
   "metadata": {},
   "outputs": [],
   "source": [
    "def model_error(params, dx, W, h0, h_obs):\n",
    "    \n",
    "    K = params[0]\n",
    "\n",
    "    # calculate the model predicted value of h\n",
    "    h_pred = solve_steady_state_diffusion_eq(dx, K, W, h0)\n",
    "    \n",
    "    # calculate the absolute error between model and observed h\n",
    "    h_error = np.abs(h_pred[-1] - h_obs)\n",
    "    \n",
    "    print('h error = ', h_error)\n",
    "\n",
    "    return h_error"
   ]
  },
  {
   "cell_type": "markdown",
   "metadata": {},
   "source": [
    "As you can see this function runs the model first and then calculates the absolute difference between *h* at the right hand node (``h_pred[-1]``) and some observed value ``h_obs``. The variable ``params`` is a list that contains all the parameters that we want to calibrate automatically. In this case we only calibrate ``K``, so ``params`` can be a list with only one value. We use the absolute model error, since the calibration function that we use is a functions that tries to minimise a value, ie.: it runs the function ``model_error`` again and again to find the lowest value of ``h_error``.\n",
    "\n",
    "Now all we need to run automatic calibration is to call one of scipy's automatic calibration functions in the main code:\n",
    "\n",
    "note that ``h_obs`` is the observed value of ``h`` at the right hand side of the model domain/the watershed boundary. "
   ]
  },
  {
   "cell_type": "code",
   "execution_count": 1,
   "metadata": {},
   "outputs": [
    {
     "ename": "NameError",
     "evalue": "name 'K' is not defined",
     "output_type": "error",
     "traceback": [
      "\u001b[0;31m---------------------------------------------------------------------------\u001b[0m",
      "\u001b[0;31mNameError\u001b[0m                                 Traceback (most recent call last)",
      "\u001b[0;32m<ipython-input-1-55aa52ec53d6>\u001b[0m in \u001b[0;36m<module>\u001b[0;34m()\u001b[0m\n\u001b[1;32m      1\u001b[0m \u001b[0;32mimport\u001b[0m \u001b[0mscipy\u001b[0m\u001b[0;34m.\u001b[0m\u001b[0moptimize\u001b[0m \u001b[0;32mas\u001b[0m \u001b[0mopt\u001b[0m\u001b[0;34m\u001b[0m\u001b[0m\n\u001b[1;32m      2\u001b[0m \u001b[0mh_obs\u001b[0m \u001b[0;34m=\u001b[0m \u001b[0;36m350.0\u001b[0m\u001b[0;34m\u001b[0m\u001b[0m\n\u001b[0;32m----> 3\u001b[0;31m \u001b[0mparams\u001b[0m \u001b[0;34m=\u001b[0m \u001b[0;34m[\u001b[0m\u001b[0mK\u001b[0m\u001b[0;34m]\u001b[0m\u001b[0;34m\u001b[0m\u001b[0m\n\u001b[0m\u001b[1;32m      4\u001b[0m \u001b[0mparams_calibrated\u001b[0m \u001b[0;34m=\u001b[0m \u001b[0mopt\u001b[0m\u001b[0;34m.\u001b[0m\u001b[0mfmin\u001b[0m\u001b[0;34m(\u001b[0m\u001b[0mmodel_error\u001b[0m\u001b[0;34m,\u001b[0m \u001b[0mparams\u001b[0m\u001b[0;34m,\u001b[0m \u001b[0margs\u001b[0m\u001b[0;34m=\u001b[0m\u001b[0;34m(\u001b[0m\u001b[0mdx\u001b[0m\u001b[0;34m,\u001b[0m \u001b[0mW_array\u001b[0m\u001b[0;34m,\u001b[0m \u001b[0mh0\u001b[0m\u001b[0;34m,\u001b[0m \u001b[0mh_obs\u001b[0m\u001b[0;34m)\u001b[0m\u001b[0;34m)\u001b[0m\u001b[0;34m\u001b[0m\u001b[0m\n\u001b[1;32m      5\u001b[0m \u001b[0mK\u001b[0m \u001b[0;34m=\u001b[0m \u001b[0mparams_calibrated\u001b[0m\u001b[0;34m[\u001b[0m\u001b[0;36m0\u001b[0m\u001b[0;34m]\u001b[0m\u001b[0;34m\u001b[0m\u001b[0m\n",
      "\u001b[0;31mNameError\u001b[0m: name 'K' is not defined"
     ]
    }
   ],
   "source": [
    "import scipy.optimize as opt\n",
    "\n",
    "h_obs = 350.0\n",
    "params = [K]\n",
    "params_calibrated = opt.fmin(model_error, params, args=(dx, W_array, h0, h_obs))\n",
    "K = params_calibrated[0]\n",
    "\n",
    "print('new calibrated value of K = ', K)"
   ]
  },
  {
   "cell_type": "markdown",
   "metadata": {},
   "source": [
    "now we rerun the numerical model with the updated value of K:"
   ]
  },
  {
   "cell_type": "code",
   "execution_count": 3,
   "metadata": {},
   "outputs": [
    {
     "ename": "NameError",
     "evalue": "name 'solve_steady_state_diffusion_eq_faster' is not defined",
     "output_type": "error",
     "traceback": [
      "\u001b[0;31m---------------------------------------------------------------------------\u001b[0m",
      "\u001b[0;31mNameError\u001b[0m                                 Traceback (most recent call last)",
      "\u001b[0;32m<ipython-input-3-d7bafcbf924a>\u001b[0m in \u001b[0;36m<module>\u001b[0;34m()\u001b[0m\n\u001b[0;32m----> 1\u001b[0;31m \u001b[0mh\u001b[0m \u001b[0;34m=\u001b[0m \u001b[0msolve_steady_state_diffusion_eq_faster\u001b[0m\u001b[0;34m(\u001b[0m\u001b[0mdx\u001b[0m\u001b[0;34m,\u001b[0m \u001b[0mK\u001b[0m\u001b[0;34m,\u001b[0m \u001b[0mW_array\u001b[0m\u001b[0;34m,\u001b[0m \u001b[0mh0\u001b[0m\u001b[0;34m)\u001b[0m\u001b[0;34m\u001b[0m\u001b[0m\n\u001b[0m",
      "\u001b[0;31mNameError\u001b[0m: name 'solve_steady_state_diffusion_eq_faster' is not defined"
     ]
    }
   ],
   "source": [
    "h = solve_steady_state_diffusion_eq_faster(dx, K, W_array, h0)"
   ]
  },
  {
   "cell_type": "markdown",
   "metadata": {},
   "source": [
    "**Assignment 3:** Run the model with the new automatic calibration function. Check if the calibrated value of ``K`` is close to the value you calibrated manually in exercise 1. Use the new value of ``K`` to model hydraulic head and make a figure of this.\n",
    "\n",
    "**Assignment 4:** Rerun the calibration with a new value of observed hydraulic head (``h_obs``) that reflects a typical measurement error for watertable measurements. The size of the error is up to you. You can think about direct measurement errors, but also errors that result from using a steady-state model for average conditions and ignoring seasonal changes. Report the error that you chose and the difference in ``K`` between the old calibration run and the new calibration run that includes the a new value of ``h_obs``. How big is the effect of measurement uncertainty on hydraulic conductivity, compared to the typical overall uncertainty of ``K`` that was discussed in the lecture? Does this mean that watertable data provide good or not so good constraints on hydraulic conductivity and permeability?"
   ]
  },
  {
   "cell_type": "code",
   "execution_count": null,
   "metadata": {},
   "outputs": [],
   "source": []
  }
 ],
 "metadata": {
  "kernelspec": {
   "display_name": "Python 3",
   "language": "python",
   "name": "python3"
  },
  "language_info": {
   "codemirror_mode": {
    "name": "ipython",
    "version": 3
   },
   "file_extension": ".py",
   "mimetype": "text/x-python",
   "name": "python",
   "nbconvert_exporter": "python",
   "pygments_lexer": "ipython3",
   "version": "3.7.4"
  }
 },
 "nbformat": 4,
 "nbformat_minor": 4
}
