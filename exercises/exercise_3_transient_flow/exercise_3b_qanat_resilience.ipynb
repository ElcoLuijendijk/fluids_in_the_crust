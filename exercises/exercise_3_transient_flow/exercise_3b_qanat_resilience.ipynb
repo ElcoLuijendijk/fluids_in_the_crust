{
 "cells": [
  {
   "cell_type": "markdown",
   "metadata": {},
   "source": [
    "# Case study 2: Transient groundwater flow towards a spring\n",
    "\n",
    "In this exercise we will apply the transient diffusion model that we have developed in exercise 3a to model a transient fluid flow system. We will look at groundwater discharge to a man-made spring (qanat) and how sensitive this spring is to changes in climate and recharge over time.\n",
    "\n",
    "We will study the flow of groundwater to a so-called *qanat*, a man-made horizontal tunnel that taps the groundwater table and provides a year-round supply of groundwater. These qanats can be found in the Middle East, North Africa and Spain and predominantly date back to Roman times. We will study a qanat in northern Syria that has been restored in the early 2000s and provides a stable supply of groundwater to a small village called Shallalah Sagireh (little waterfall). The qanat dates back to at least the Byzantine age, since a byzantine artefact was found in the tunnel during restoration work. Currently the qanat provides approx. 0.4 L/s of water on average.\n",
    "\n",
    "We will explore the question on how vulnerable qanats like these are to multi-year droughts. In practice we will use our 1D transient model of groundwater flow to simulate the steady-state initial flow to the qanat, and then model the change in flow after we have set the recharge to a value of 0.\n"
   ]
  },
  {
   "cell_type": "markdown",
   "metadata": {},
   "source": [
    "## Workflow\n",
    "\n",
    "1. Set up the model parameters and run the steady state model\n",
    "2. Adjust K and S untill you get a reasonable water level (ie, make sure the qanat is not dry)\n",
    "3. Fix the hydraulic head at the source of the qanat\n",
    "4. Turn off recharge, run the transient model and quantify how long it takes before the qanat runs dry"
   ]
  },
  {
   "cell_type": "markdown",
   "metadata": {},
   "source": [
    "### Set up model variables\n",
    "\n",
    "Change the variables to model our qanat system. The model setup is shown schematically in Fig. 3\n",
    "\n",
    "The system is 5.3 km long. Adjust the variable ``x`` in your script to make sure the model has the correct dimensions. \n",
    "\n",
    "The cross section starts at the central part of the valley at some distance from the qanat, where groundwater levels are relatively steady at 300 m above sea level. Use this as a value for h0.\n",
    "\n",
    "The aquifer thickness is unknown, but is roughly estimated as 200 m. The transmissivity (=the product of hydraulic conductivity and aquifer tickness, K * b) of the aquifer has been estimated using an unpublished numerical model study for the larger surrounding area (Khanasser Valley) as 1.3 * 10^-5^ m^2^ s^-1^. This value is a first estimate, we will probably need to adjust this to get the watertable right.\n",
    "\n",
    "Storarivity of the limestone rocks in which the formation was dug is probably relatively low. The formation is unconfined, so the storativity is dominated by the specific yield, which tends to be orders of magnitude higher than the elastic response of water and the rock matrix (=specific storage). We will use a first estimate of specific yield of 0.15.\n",
    "\n",
    "The qanat is fed by recharge from the basalt plateau. Once upon a time I quantified recharge using the chloride mass balance (Luijendijk & Bruggeman 2008), ie. by looking at the difference in chloride concentration between groundwater and precipitation. The long-term average groundwater recharge was found to be 12 mm/yr, but with a large uncertainty range: 7 to 19 mm/yr. This is only a small fraction of the precipitation of approx. 300 mm/yr.\n",
    "\n",
    "Both the chloride concentration of groundwater and the groundwater level contours suggest that recharge occurs only on the basalt plateau. In our model cross-section the basalt plateau runs from x=4100 m to x=5300 m. To accommodate lateral changes in recharge we should define recharge as an array instead of a single number. We can tell the script to vary recharge like this:\n",
    "\n",
    "~~~~python\n",
    "nx = len(x)\n",
    "R = np.zeros(nx)\n",
    "year = 365 * 24 * 60 * 60.0\n",
    "R[41:] = 0.012 / year\n",
    "~~~~\n",
    "\n",
    "make sure then to recalculate the source term (W) as well."
   ]
  },
  {
   "cell_type": "markdown",
   "metadata": {},
   "source": [
    "### Adding the qanat\n",
    "\n",
    "To add the qanat we will have to adjust the function that contains the iterative solver for steady-state flow (the function that starts with ``def run_model(...)``). Copy this function and give it a new name like ``run_model_qanat`` or something. We will use this function to calculate a steady-state waterlevel with an additional fixed head point located at the source of the qanat. \n",
    "\n",
    "The source of the qanat is located at 3800 m distance from the start of the cross-section, and the level of the bottom of the tunnel is 410 m.\n",
    "\n",
    "Add two variables for the distance and the elevation of the qanat to the variable definition part of the code:\n",
    "\n",
    "~~~~python\n",
    "# specify water level and location of qanat tunnel\n",
    "h_qanat = 410.0\n",
    "x_qanat = 38\n",
    "~~~~\n",
    "\n",
    "Now we need to make sure these variables make it to your new steady-state flow function. Add ``x_qanat`` and ``h_qanat`` to the variable list. So for example instead of this:\n",
    "\n",
    "~~~~python\n",
    "def run_steady_state_model_with_qanat(x, dx, K, h0, W_rch):\n",
    "~~~~\n",
    "\n",
    "you would have the following function definition:\n",
    "\n",
    "~~~~python\n",
    "def run_steady_state_model_with_qanat(x, dx, K, h0, W_rch, x_qanat, h_qanat):\n",
    "~~~~\n",
    "\n",
    "(note the names of the variables may vary somewhat with your version of the script)\n",
    "\n",
    "The final step to implementing the qanat is to tell the new iterative steady-state solver to fix the hydraulic head at the location of the qanat. We can do this by adding the next line inside the iterative solver loop in the new qanat function:\n",
    "\n",
    "~~~~python\n",
    "        # force fixed h at qanat\n",
    "        h_new[x_qanat] = h_qanat\n",
    "~~~~\n",
    "\n",
    "make sure this line is located after the calculation of the other nodes (``h_new[1:-1] = ...``), otherwise this will get overwritten.\n",
    "\n",
    "Now add lines to run the steady-state model twice, one time without and one time with the qanat:\n",
    "\n",
    "~~~~python\n",
    "# run steady-state model:\n",
    "h_steady = run_steady_state_model(x, dx, K, h0, W_rch)\n",
    "\n",
    "# calculate steady-state h with discharge to qanat:\n",
    "h_steady_qanat = run_steady_state_model_with_qanat(x, dx, K, h0, W_rch, x_qanat, h_qanat)\n",
    "~~~~\n",
    "\n",
    "Now run the code and make sure it works well. Try to plot the modeled hdyraulic heads. The initial hydraulic head (h_steady) should be above the base of the qanat. "
   ]
  },
  {
   "cell_type": "markdown",
   "metadata": {},
   "source": [
    "### Modelling changes in flow over time:\n",
    "\n",
    "Now lets modify the transient model runs to include the qanat as well. In addition we would like to record the flow towards the qanat to track any changes of this flow over time. \n",
    "\n",
    "First lets set up a variable to track the change in flow to the qanat over time. Add this somewhere before the start of your transient model code:\n",
    "\n",
    "~~~~python\n",
    "# make an array to store the flow into the qanat\n",
    "q_qanat = np.zeros(n_timesteps)\n",
    "~~~~\n",
    "\n",
    "Secondly we have to add the fixed head to the transient code as well. However, we will make this conditional using an if statement, so that the fixed head is no longer maintained when h falls below the level of the qanat. Add \n",
    "\n",
    "\n",
    "~~~~python\n",
    "    # check if the modeled waterlevel is still above the elevation of the qanat\n",
    "    if h[j, x_qanat] > h_qanat:\n",
    "\n",
    "        # if yes: force the specified waterlevel in the qanat\n",
    "        h[j, x_qanat] = h_qanat\n",
    "        \n",
    "    else:\n",
    "        # no flow in or out of the qanat anymore\n",
    "\tpass\n",
    "\n",
    "~~~~\n",
    "\n",
    "and finally we also want to know what the flow in and out of the qanat is. We can do this by simply using Darcy’s law to calculate the flux into and out of the node where the qanat is located:\n",
    "\n",
    "~~~~python\n",
    "    # check if the modeled waterlevel is still above the elevation of the qanat\n",
    "    if h[j, x_qanat] > h_qanat:\n",
    "\n",
    "        # if yes: force the specified waterlevel in the qanat\n",
    "        h[j, x_qanat] = h_qanat\n",
    "        \n",
    "\t# calculate q from an to the qanat\n",
    "        q_in = K * b * (h[j, x_qanat+1] - h[j, x_qanat]) / dx\n",
    "        q_out = K * b * (h[j, x_qanat] - h[j, x_qanat-1]) / dx\n",
    "        q_qanat[j] = q_in - q_out\n",
    "\n",
    "    else:\n",
    "        # no flow in or out of the qanat anymore\n",
    "        q_qanat[j] = 0\n",
    "\n",
    "~~~~\n",
    "\n",
    "Now we are all set to start modelling our very first qanat. Set recharge to 0 before the transient loop to model a multi-year drought."
   ]
  },
  {
   "cell_type": "markdown",
   "metadata": {},
   "source": [
    "## Assignments\n",
    "\n",
    "Ok, we are all set now to start modelling flow to a qanat and how this responds to changes over time, explore some research questions, and submit a paper of our findings to Nature:\n",
    "\n",
    "1. Adjust hydraulic conductivity (K) until the steady-state value of h (``h_steady``, the one without a qanat) is above the level of the qanat, but below the surface. In reality while digging the tunnel the diggers will probably have continued until they hit the groundwater table, and a little while further to capture as much water as possible. Make sure your simulated watertable is (somewhat) realistic, and report your best-estimate of the value of K, the hydraulic head at the source of the qanat and make a figure of the modeled watertable.\n",
    "2. Simulate the transient change of flow to the qanat over time in case of a multi-year drought (ie. set the recharge to 0). Repeat using three different estimates of storativity. Look up typical variation of specific yield of consolidated carbonates online, in handbooks and/or your lecture notes. Report (inc. figures) how long it lasts until the qanat runs completely dry and at what stage the flow has reduced to 50% of the initial** value.\n",
    "3. Change the value of recharge at the basalt plateau to its minimum and maximum estimate (7 mm/yr and 19 mm/yr). Readjust the initial steady-state value of hydraulic conductivity to maintain a realistic initial watertable and rerun the transient calculations. Again report how long it lasts until the qanat runs dry. What parameter is more important in determining the ‘resilience’ of the qanat, recharge, K or storativity?\n",
    "\n",
    "\n"
   ]
  },
  {
   "cell_type": "markdown",
   "metadata": {},
   "source": [
    "# The actual model code:"
   ]
  },
  {
   "cell_type": "markdown",
   "metadata": {},
   "source": [
    "## import python modules"
   ]
  },
  {
   "cell_type": "code",
   "execution_count": 155,
   "metadata": {},
   "outputs": [],
   "source": [
    "import matplotlib\n",
    "\n",
    "%matplotlib inline\n",
    "\n",
    "import numpy as np\n",
    "import matplotlib.pyplot as pl\n",
    "import pandas as pd"
   ]
  },
  {
   "cell_type": "markdown",
   "metadata": {},
   "source": [
    "## Function to calculate steady-state hydraulic head"
   ]
  },
  {
   "cell_type": "code",
   "execution_count": 156,
   "metadata": {},
   "outputs": [],
   "source": [
    "def run_steady_state_model(x, dx, K, u0, W, n_iter=20000):\n",
    "    \n",
    "    C = (W * dx**2) / K\n",
    "\n",
    "    u_new = np.ones_like(x) * u0\n",
    "    u_old = np.ones_like(x) * u0\n",
    "\n",
    "    # iterative solution steady-state h\n",
    "\n",
    "    for t in range(n_iter):\n",
    "    # make sure you indent anything below a for loop\n",
    "\n",
    "        # set bnd conditions\n",
    "        # left bnd:\n",
    "        u_new[0] = u0\n",
    "        # right bnd:\n",
    "        u_new[-1] = 0.5 * (C[-1] + u_old[-1] + u_old[-2])\n",
    "\n",
    "        # middle nodes:\n",
    "        u_new[1:-1] = 0.5 * (C[1:-1] + u_old[2:] + u_old[:-2])\n",
    "\n",
    "        u_old = u_new.copy()\n",
    "\n",
    "    return u_new"
   ]
  },
  {
   "cell_type": "markdown",
   "metadata": {},
   "source": [
    "## Model parameters"
   ]
  },
  {
   "cell_type": "code",
   "execution_count": 157,
   "metadata": {},
   "outputs": [],
   "source": [
    "day = 24.0 * 60.0 * 60.0\n",
    "year = 365 * 24 * 60 * 60.0\n",
    "\n",
    "L = 5300.0\n",
    "dx = 100.0\n",
    "\n",
    "# thickness, use this for vertically integrated flow only, otherwise us b=1\n",
    "b = 200.0\n",
    "\n",
    "# hydraulic conductivity\n",
    "K = 1.3e-5 / b"
   ]
  },
  {
   "cell_type": "markdown",
   "metadata": {},
   "source": [
    "## Set up arrays"
   ]
  },
  {
   "cell_type": "code",
   "execution_count": 158,
   "metadata": {},
   "outputs": [],
   "source": [
    "\n",
    "x = np.arange(0, L + dx, dx)\n",
    "\n",
    "# source term\n",
    "W = np.zeros_like(x)\n",
    "\n",
    "# for qanat exercise: specify source term using a recharge of 12 mm/yr on the basalt plateau\n",
    "# note, look up correct equation for the source term in handouts exercise 1\n",
    "x_basalt = 20000\n",
    "#W[x > x_basalt] = 0.012 / year"
   ]
  },
  {
   "cell_type": "markdown",
   "metadata": {},
   "source": [
    "## Parameters for transient model runs"
   ]
  },
  {
   "cell_type": "code",
   "execution_count": 159,
   "metadata": {},
   "outputs": [],
   "source": [
    "# specify storage coefficient\n",
    "# for unconfined groundwater flow this is the specific yield\n",
    "# for confined this is the specific storage\n",
    "porosity = 0.1\n",
    "density = 1000.0\n",
    "g = 9.81\n",
    "S = 1e-4\n",
    "\n",
    "# timestep size\n",
    "dt = 1.0 * day\n",
    "\n",
    "#total duration\n",
    "duration = 2.0 * year\n",
    "\n",
    "# calculate total number of timesteps\n",
    "n_timesteps = int(duration / dt)\n",
    "\n",
    "# left-hand boudnary condition\n",
    "h_bnd = 300.0\n",
    "h0 = np.ones((n_timesteps)) * h_bnd"
   ]
  },
  {
   "cell_type": "markdown",
   "metadata": {},
   "source": [
    "## run steady-state model\n",
    "\n",
    "We will first run the steady state model. The steady state value of h will be used as an initial value for the transient model runs"
   ]
  },
  {
   "cell_type": "code",
   "execution_count": 160,
   "metadata": {},
   "outputs": [],
   "source": [
    "h_steady = run_steady_state_model(x, dx, K, h_bnd, W)"
   ]
  },
  {
   "cell_type": "markdown",
   "metadata": {},
   "source": [
    "## Set up parameters for the transient model"
   ]
  },
  {
   "cell_type": "code",
   "execution_count": 161,
   "metadata": {},
   "outputs": [],
   "source": [
    "# set up array that records timesteps:\n",
    "time = np.arange(n_timesteps) * dt\n",
    "\n",
    "# define array to store flux and the variable over time:\n",
    "n_nodes = len(x)\n",
    "h = np.zeros((n_timesteps, n_nodes))\n",
    "\n",
    "# set the steady-state value of u as value for first timestep\n",
    "h[0] = h_steady"
   ]
  },
  {
   "cell_type": "markdown",
   "metadata": {},
   "source": [
    "## run the transient model:"
   ]
  },
  {
   "cell_type": "code",
   "execution_count": 162,
   "metadata": {},
   "outputs": [],
   "source": [
    "for j in range(1, n_timesteps):\n",
    "    \n",
    "    # calculate the flux between nodes\n",
    "    q = -K * b * (h[j-1, 1:] - h[j-1, :-1]) / dx\n",
    "\n",
    "    # set specified variable value at the left-hand node:\n",
    "    h[j, 0] = h0[j]\n",
    "\n",
    "    # implement no-flow boundary condition at right-hand side:\n",
    "    q_right = 0.0\n",
    "    h[j, -1] = h[j-1, -1] + (dt/S) * (-(q_right - q[-1])/dx) + (dt / S) * W[-1] * b\n",
    "\n",
    "    # update nodes in the middle:\n",
    "    h[j, 1:-1] = h[j-1, 1:-1] + (dt/S)*(-(q[1:] - q[:-1])/dx) + (dt/S) * W[1:-1] * b\n",
    "\n",
    "    # print results to screen each 100 timesteps\n",
    "    if int(j / 365) == float(j / 365):\n",
    "        print('time = ', ((j * dt) / year), ', min, max value of h = ', h[j].min(), h[j].max())"
   ]
  },
  {
   "cell_type": "markdown",
   "metadata": {},
   "source": [
    "## Normalize qanat discharge"
   ]
  },
  {
   "cell_type": "code",
   "execution_count": 1,
   "metadata": {},
   "outputs": [
    {
     "ename": "NameError",
     "evalue": "name 'q_qanat' is not defined",
     "output_type": "error",
     "traceback": [
      "\u001b[0;31m---------------------------------------------------------------------------\u001b[0m",
      "\u001b[0;31mNameError\u001b[0m                                 Traceback (most recent call last)",
      "\u001b[0;32m<ipython-input-1-4220aef07d3c>\u001b[0m in \u001b[0;36m<module>\u001b[0;34m\u001b[0m\n\u001b[0;32m----> 1\u001b[0;31m \u001b[0mq_qanat\u001b[0m \u001b[0;34m=\u001b[0m \u001b[0mq_qanat\u001b[0m \u001b[0;34m/\u001b[0m \u001b[0mq_qanat\u001b[0m\u001b[0;34m.\u001b[0m\u001b[0mmax\u001b[0m\u001b[0;34m(\u001b[0m\u001b[0;34m)\u001b[0m\u001b[0;34m\u001b[0m\u001b[0;34m\u001b[0m\u001b[0m\n\u001b[0m",
      "\u001b[0;31mNameError\u001b[0m: name 'q_qanat' is not defined"
     ]
    }
   ],
   "source": [
    "#q_qanat = q_qanat / q_qanat.max()"
   ]
  },
  {
   "cell_type": "markdown",
   "metadata": {},
   "source": [
    "## Load elevation vs distance data"
   ]
  },
  {
   "cell_type": "code",
   "execution_count": 163,
   "metadata": {},
   "outputs": [],
   "source": [
    "csv_file = pd.read_csv('cross_section_qanat.csv')"
   ]
  },
  {
   "cell_type": "markdown",
   "metadata": {},
   "source": [
    "## Create a figure:"
   ]
  },
  {
   "cell_type": "code",
   "execution_count": 164,
   "metadata": {},
   "outputs": [
    {
     "data": {
      "image/png": "[encoded data removed]",
      "text/plain": [
       "<Figure size 648x648 with 3 Axes>"
      ]
     },
     "metadata": {
      "needs_background": "light"
     },
     "output_type": "display_data"
    }
   ],
   "source": [
    "nt = n_timesteps\n",
    "\n",
    "# create a new figure with 3 panels\n",
    "fig, panels = pl.subplots(3, 1, figsize=(9, 9))\n",
    "\n",
    "# first panel: show steady-state h\n",
    "panels[0].plot(x, h_steady, color='blue', ls='--', label='steady-state')\n",
    "#panels[0].plot(x, h[-1], color='darkblue', ls='-', label='transient')\n",
    "\n",
    "# second panel, show change in hydraulic head over time\n",
    "output_timesteps = np.linspace(0, nt, 5)\n",
    "for j in output_timesteps:\n",
    "    panels[1].plot(x, h[j])\n",
    "\n",
    "# first 2 panels: draw a line to show where the qanat is\n",
    "panels[0].plot([3775.0, 3420.0], [410.0, 405.0], color='black')\n",
    "panels[1].plot([3775.0, 3420.0], [410.0, 405.0], color='black')\n",
    "\n",
    "# and show the surface elevation\n",
    "panels[0].plot(csv_file['distance'], csv_file['elevation'], color='darkgray')\n",
    "panels[1].plot(csv_file['distance'], csv_file['elevation'], color='darkgray')\n",
    "\n",
    "# last panel: show flow over time\n",
    "year = 365 * 24 * 60.0 * 60.0\n",
    "timesteps = np.arange(nt) * dt / year\n",
    "#panels[2].plot(timesteps, q_qanat)\n",
    "\n",
    "panels[0].set_xlabel('Distance (m)')\n",
    "panels[1].set_xlabel('Distance (m)')\n",
    "panels[2].set_xlabel('Time (yr)')\n",
    "\n",
    "panels[0].set_ylabel('Elevation (m)')\n",
    "panels[1].set_ylabel('Elevation (m)')\n",
    "panels[2].set_ylabel('Relative discharge qanat')\n",
    "\n",
    "panels[0].set_xlim(3000, 4500)\n",
    "panels[1].set_xlim(3000, 4500)\n",
    "panels[0].set_ylim(350, 450)\n",
    "panels[1].set_ylim(350, 450)\n",
    "\n",
    "for panel in panels:\n",
    "    panel.grid()\n",
    "\n",
    "fig.tight_layout()\n",
    "\n",
    "fig.savefig('simulated_h_qanat_transient.pdf')"
   ]
  },
  {
   "cell_type": "markdown",
   "metadata": {},
   "source": [
    "### A figure of h over time for a specific depth"
   ]
  },
  {
   "cell_type": "markdown",
   "metadata": {},
   "source": [
    "# References\n",
    "\n",
    "Luijendijk, Elco, and Adriana Bruggeman. 2008. “Groundwater Resources in the Jabal Al Hass Region, Northwest Syria: An Assessment of Past Use and Future Potential.” Hydrogeology Journal 16 (3): 511–30.\n",
    "\n",
    "\n",
    "Note, you can find these publications using google scholar: https://scholar.google.com"
   ]
  },
  {
   "cell_type": "markdown",
   "metadata": {},
   "source": [
    "![cross-section of the qanat. Note that the elevation data are not correct (constructed pre GPS age), the outlet is location at 405 m above sea level](figs/qanat_xsection_small.png)\n",
    "*Cross-section of the qanat. Note that the elevation data are not correct (this cross-section was made pre GPS age), the outlet is located at 405 m above sea level*\n",
    "\n",
    "![Map of the elevation, geology and location of the qanat and the 1D cross-section](figs/qanat_map.png)\n",
    "*Map of the elevation, geology and location of the qanat and the 1D cross-section*\n",
    "\n",
    "![Overview of the model setup along the 1D cross-section. The valley bottom is located at the left, basalt plateau at the right. Surface elevation in gray, qanat tunnel in black and modeled waterlevel in blue. Note that the waterlevel exceeds the surface at the left hand side of the model domain, which is probably not realistic, but does not affect our model results. Hydraulic conductivity is probably higher than average in the valley (quaternary sediments).](figs/model_overview.png)\n",
    "*Overview of the model setup along the 1D cross-section. The valley bottom is located at the left, basalt plateau at the right. Surface elevation in gray, qanat tunnel in black and modeled waterlevel in blue. Note that the waterlevel exceeds the surface at the left hand side of the model domain, which is probably not realistic, but does not affect our model results. Hydraulic conductivity is probably higher than average in the valley (Quaternary sediments).*"
   ]
  },
  {
   "cell_type": "code",
   "execution_count": null,
   "metadata": {},
   "outputs": [],
   "source": []
  }
 ],
 "metadata": {
  "kernelspec": {
   "display_name": "Python 3",
   "language": "python",
   "name": "python3"
  },
  "language_info": {
   "codemirror_mode": {
    "name": "ipython",
    "version": 3
   },
   "file_extension": ".py",
   "mimetype": "text/x-python",
   "name": "python",
   "nbconvert_exporter": "python",
   "pygments_lexer": "ipython3",
   "version": "3.7.0"
  }
 },
 "nbformat": 4,
 "nbformat_minor": 4
}
